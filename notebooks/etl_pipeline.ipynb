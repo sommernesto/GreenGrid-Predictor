{
"cells": [
{
"cell_type": "code",
"execution_count": null,
"metadata": {},
"outputs": [],
"source": [
"import pandas as pd\n",
"\n",
"# List your CSV files - adjust paths/names as needed\n",
"files = [\n",
"    'data/raw/Actual Generation per Production Type_202001010000-202101010000.csv',\n",
"    'data/raw/Actual Generation per Production Type_202101010000-202201010000.csv',\n",
"    'data/raw/Actual Generation per Production Type_202201010000-202301010000.csv',\n",
"    'data/raw/Actual Generation per Production Type_202301010000-202401010000.csv',\n",
"    'data/raw/Actual Generation per Production Type_202401010000-202501010000.csv'\n",
"]\n",
"\n",
"# Load CSVs\n",
"dfs = [pd.read_csv(f) for f in files]\n",
"\n",
"# Concatenate\n",
"df = pd.concat(dfs, ignore_index=True)\n",
"\n",
"# Standardize timestamp\n",
"df['MTU'] = pd.to_datetime(df['MTU'].str.split(' - ').str[0])\n",
"\n",
"# Select and rename columns\n",
"df = df[['MTU', 'Area', 'Solar - Actual Aggregated [MW]', \n",
"         'Wind Onshore - Actual Aggregated [MW]', 'Wind Offshore - Actual Aggregated [MW]', \n",
"         'Hydro Pumped Storage - Actual Aggregated [MW]', 'Hydro Pumped Storage - Actual Consumption [MW]', \n",
"         'Hydro Water Reservoir - Actual Aggregated [MW]']].rename(columns={\n",
"    'MTU': 'timestamp', 'Area': 'country', \n",
"    'Solar - Actual Aggregated [MW]': 'solar_mw',\n",
"    'Wind Onshore - Actual Aggregated [MW]': 'wind_onshore_mw',\n",
"    'Wind Offshore - Actual Aggregated [MW]': 'wind_offshore_mw',\n",
"    'Hydro Pumped Storage - Actual Aggregated [MW]': 'hydro_pumped_gen_mw',\n",
"    'Hydro Pumped Storage - Actual Consumption [MW]': 'hydro_pumped_cons_mw',\n",
"    'Hydro Water Reservoir - Actual Aggregated [MW]': 'hydro_reservoir_mw'\n",
"})\n",
"\n",
"# Handle missing values\n",
"df.fillna({'solar_mw': 0, 'wind_onshore_mw': 0, 'wind_offshore_mw': 0, \n",
"           'hydro_pumped_gen_mw': 0, 'hydro_pumped_cons_mw': 0, 'hydro_reservoir_mw': 0}, inplace=True)\n",
"\n",
"# Hydro net for pumped storage\n",
"df['hydro_pumped_net_mw'] = df['hydro_pumped_gen_mw'] - df['hydro_pumped_cons_mw']\n",
"\n",
"# Resample to hourly if needed (for 15-min data)\n",
"df.set_index('timestamp', inplace=True)\n",
"df = df.resample('H').mean().reset_index()\n",
"\n",
"# Save merged CSV\n",
"df.to_csv('data/processed/spain_renewables_master_2020_2024.csv', index=False)\n",
"print(df.head())\n",
"print(df.info())"
]
}
],
"metadata": {
"kernelspec": {
"display_name": "Python 3",
"language": "python",
"name": "python3"
},
"language_info": {
"codemirror_mode": {
"name": "ipython",
"version": 3
},
"file_extension": ".py",
"mimetype": "text/x-python",
"name": "python",
"nbconvert_exporter": "python",
"pygments_lexer": "ipython3",
"version": "3.8.0"
}
},
"nbformat": 4,
"nbformat_minor": 4
}
